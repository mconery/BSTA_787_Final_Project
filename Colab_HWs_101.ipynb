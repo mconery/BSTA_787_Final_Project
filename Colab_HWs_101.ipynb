{
  "nbformat": 4,
  "nbformat_minor": 0,
  "metadata": {
    "colab": {
      "name": "Colab_HWs_101.ipynb",
      "provenance": [],
      "collapsed_sections": [],
      "include_colab_link": true
    },
    "kernelspec": {
      "name": "python3",
      "display_name": "Python 3"
    },
    "language_info": {
      "name": "python"
    }
  },
  "cells": [
    {
      "cell_type": "markdown",
      "metadata": {
        "id": "view-in-github",
        "colab_type": "text"
      },
      "source": [
        "<a href=\"https://colab.research.google.com/github/mconery/BSTA_787_Final_Project/blob/main/Colab_HWs_101.ipynb\" target=\"_parent\"><img src=\"https://colab.research.google.com/assets/colab-badge.svg\" alt=\"Open In Colab\"/></a>"
      ]
    },
    {
      "cell_type": "markdown",
      "metadata": {
        "id": "aCAv3OajyrlH"
      },
      "source": [
        "# CIS 419/519 Colab HWs 101\n",
        "- The basics of Google Colab and PennGrader. "
      ]
    },
    {
      "cell_type": "markdown",
      "metadata": {
        "id": "JIGLv6ERQwdt"
      },
      "source": [
        "## PennGrader Installation\n",
        "First, you'll need to set up the PennGrader, an autograder we are going to use throughout the semester. The PennGrader will automatically grade your answer and provide you with an instant feedback. Unless otherwise stated, you can resubmit up to a reasonable number of attempts (e.g. 100 attemptes per day). **We will only record your latest score in our backend database**.\n",
        "\n",
        "After finishing each homework assignment, you must submit your iPython notebook to gradescope before the homework deadline. Gradescope will then retrive and display your scores from our backend database."
      ]
    },
    {
      "cell_type": "code",
      "metadata": {
        "id": "IP7jznCnunTc"
      },
      "source": [
        "%%capture\n",
        "!pip3 install penngrader --upgrade"
      ],
      "execution_count": null,
      "outputs": []
    },
    {
      "cell_type": "code",
      "metadata": {
        "id": "94KoXzkjRE2H"
      },
      "source": [
        "from penngrader.grader import *\n",
        "from typing import List"
      ],
      "execution_count": null,
      "outputs": []
    },
    {
      "cell_type": "markdown",
      "metadata": {
        "id": "qdqZCL4sRKJl"
      },
      "source": [
        "## Autograder Setup\n",
        "\n",
        "Enter your 8-digit PennID below:"
      ]
    },
    {
      "cell_type": "code",
      "metadata": {
        "id": "NCLcMI44RGUI"
      },
      "source": [
        "#PLEASE ENSURE YOUR PENN-ID IS ENTERED CORRECTLY. IF NOT, THE AUTOGRADER WON'T KNOW WHO \n",
        "#TO ASSIGN POINTS TO YOU IN OUR BACKEND\n",
        "STUDENT_ID = 9999999999          # YOUR 8-DIGIT PENN-ID GOES HERE AS AN INTEGER#"
      ],
      "execution_count": null,
      "outputs": []
    },
    {
      "cell_type": "markdown",
      "metadata": {
        "id": "_COPHi8ARS4x"
      },
      "source": [
        "Run the following cell to initialize the autograder. This autograder will let you submit your code directly from this notebook and immediately get a score.\n",
        "NOTE: Remember we store your submissions and check against other student's submissions... so, not that you would, but no cheating."
      ]
    },
    {
      "cell_type": "code",
      "metadata": {
        "colab": {
          "base_uri": "https://localhost:8080/"
        },
        "id": "FloyWXkVROfS",
        "outputId": "32dde6f4-cde7-4aad-8397-12fef88252b6"
      },
      "source": [
        "grader = PennGrader(homework_id = 'CIS_519_Fall21_HW101', student_id = STUDENT_ID)"
      ],
      "execution_count": null,
      "outputs": [
        {
          "output_type": "stream",
          "name": "stdout",
          "text": [
            "PennGrader initialized with Student ID: 9999999999\n",
            "\n",
            "Make sure this correct or we will not be able to store your grade\n"
          ]
        }
      ]
    },
    {
      "cell_type": "markdown",
      "metadata": {
        "id": "JYfy9Q_7RZuf"
      },
      "source": [
        "## Intro to PennGrader\n",
        "\n",
        "First, let's implement the following function to compute the sum of numbers in a list."
      ]
    },
    {
      "cell_type": "code",
      "metadata": {
        "id": "WSnG4k6uRY3I"
      },
      "source": [
        "def compute_sum(input_list: List[int]):\n",
        "  \"\"\"\n",
        "  @param input_list: a list of integer numbers\n",
        "  \"\"\"\n",
        "  result = 0\n",
        "  for x in input_list:\n",
        "    result += x*2\n",
        "  return result "
      ],
      "execution_count": null,
      "outputs": []
    },
    {
      "cell_type": "code",
      "metadata": {
        "id": "kOPdRiBWVceb"
      },
      "source": [
        "# let's do a sanity check before submitting\n",
        "assert compute_sum([1, 2, 3, 4, 5]) == 15"
      ],
      "execution_count": null,
      "outputs": []
    },
    {
      "cell_type": "code",
      "metadata": {
        "colab": {
          "base_uri": "https://localhost:8080/"
        },
        "id": "mh9muA5dRVIq",
        "outputId": "5d2bab0a-a44c-43c2-e3e4-db222a940c00"
      },
      "source": [
        "# PennGrader Grading Cell\n",
        "grader.grade(test_case_id = 'test_compute_sum', answer = compute_sum)"
      ],
      "execution_count": null,
      "outputs": [
        {
          "output_type": "stream",
          "name": "stdout",
          "text": [
            "Correct! You earned 10/10 points. You are a star!\n",
            "\n",
            "Your submission has been successfully recorded in the gradebook.\n"
          ]
        }
      ]
    },
    {
      "cell_type": "markdown",
      "metadata": {
        "id": "oQZxzW0lUJEi"
      },
      "source": [
        "Next, let's define an object class called \"Accumulator\", which support two functions:\n",
        "- add(x): adding a number to the accumulator\n",
        "- sum(): return the sum of all the numbers received\n",
        "- clear(): clear the accumulator buffer"
      ]
    },
    {
      "cell_type": "code",
      "metadata": {
        "id": "RX9RNE6xT9tj"
      },
      "source": [
        "class Accumulator():\n",
        "  def __init__(self):\n",
        "    self.result = 0\n",
        "  \n",
        "  def add(self, x: int):\n",
        "    self.result += x\n",
        "  \n",
        "  def sum(self):\n",
        "    return self.result\n",
        "\n",
        "  def clear(self):\n",
        "    self.result = 0"
      ],
      "execution_count": null,
      "outputs": []
    },
    {
      "cell_type": "code",
      "metadata": {
        "id": "zJnn99DfVCSa"
      },
      "source": [
        "# Sanity Check\n",
        "accum = Accumulator()\n",
        "accum.add(1)\n",
        "accum.add(2)\n",
        "accum.add(3)\n",
        "accum.add(4)\n",
        "accum.add(5)\n",
        "assert accum.sum() == 15\n",
        "\n",
        "# clear the accumulator\n",
        "accum.clear()\n",
        "assert accum.sum() == 0"
      ],
      "execution_count": null,
      "outputs": []
    },
    {
      "cell_type": "code",
      "metadata": {
        "colab": {
          "base_uri": "https://localhost:8080/"
        },
        "id": "wqCYXaH2V3np",
        "outputId": "220d7080-a3a7-4aa9-c984-2f22eac1687a"
      },
      "source": [
        "# PennGrader Grading Cell\n",
        "accum.clear()\n",
        "grader.grade(test_case_id = 'test_accumulator_obj', answer = accum)"
      ],
      "execution_count": null,
      "outputs": [
        {
          "output_type": "stream",
          "name": "stdout",
          "text": [
            "Correct! You earned 10/10 points. You are a star!\n",
            "\n",
            "Your submission has been successfully recorded in the gradebook.\n"
          ]
        }
      ]
    }
  ]
}